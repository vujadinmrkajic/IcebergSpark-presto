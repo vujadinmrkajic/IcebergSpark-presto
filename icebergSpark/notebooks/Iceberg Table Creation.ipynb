{
 "cells": [
  {
   "cell_type": "code",
   "execution_count": 1,
   "id": "5de53c6f-ee9f-4c25-a004-0a6d367f7a91",
   "metadata": {},
   "outputs": [],
   "source": [
    "from pyspark.sql import SparkSession"
   ]
  },
  {
   "cell_type": "code",
   "execution_count": 2,
   "id": "fcf79d54-ffcf-4bdd-a000-2cb2d7deeaa6",
   "metadata": {},
   "outputs": [],
   "source": [
    "spark.stop()  # Stop the existing session"
   ]
  },
  {
   "cell_type": "code",
   "execution_count": 3,
   "id": "ffe6a832-fbcf-4a49-a1e1-4a1d7a026ede",
   "metadata": {},
   "outputs": [
    {
     "name": "stderr",
     "output_type": "stream",
     "text": [
      "24/11/14 11:47:56 WARN Utils: Service 'SparkUI' could not bind on port 4040. Attempting port 4041.\n"
     ]
    }
   ],
   "source": [
    "# Create a Spark session with Iceberg configurations\n",
    "spark = SparkSession.builder \\\n",
    "    .appName(\"Iceberg Table Creation\") \\\n",
    "    .config(\"spark.sql.catalog.my_catalog\", \"org.apache.iceberg.spark.SparkCatalog\") \\\n",
    "    .config(\"spark.sql.catalog.my_catalog.type\", \"rest\") \\\n",
    "    .config(\"spark.sql.catalog.my_catalog.uri\", \"http://iceberg-rest:8181\") \\\n",
    "    .getOrCreate()"
   ]
  },
  {
   "cell_type": "code",
   "execution_count": 4,
   "id": "47297394-cced-43ff-af88-20f61dfd365c",
   "metadata": {},
   "outputs": [
    {
     "data": {
      "text/plain": [
       "pyarrow.Table\n",
       "Id: string\n",
       "Timestamp: timestamp[ns]\n",
       "ReferenceId: string\n",
       "AppIdentificator: string\n",
       "PaymentType: string\n",
       "PaymentProvider: string\n",
       "Country: string\n",
       "TenantId: string\n",
       "Amount: double\n",
       "Units: int64\n",
       "TotalAmount: double\n",
       "Payload: string\n",
       "----\n",
       "Id: [[\"21be5e99-2b93-41b8-8bb5-868ad323b430\",\"9be186c2-2629-4586-9169-f412e6e752f1\",\"cac6753f-7041-459b-a3b1-06ca40a890af\",\"d8423bfa-3216-4d3f-81a4-c77e7c054f90\",\"8e019a7e-bcc7-4db1-baff-d53e3dda9821\",...,\"ba21f33f-d170-49aa-b10e-691065bdba00\",\"086ec9e6-77ad-4a7e-a892-1f0d6ba211b0\",\"d88b644a-a23b-4879-b402-f82465db9973\",\"f8b0c514-1251-429c-b511-b6724b57e994\",\"80e8ea05-4884-4887-bf93-1f4f1c21b955\"]]\n",
       "Timestamp: [[2023-06-13 07:56:15.000000000,2023-06-23 06:04:27.000000000,2022-10-26 06:11:29.000000000,2020-01-20 17:57:30.000000000,2021-09-20 20:34:36.000000000,...,2020-12-15 09:30:03.000000000,2021-08-15 07:04:01.000000000,2023-01-20 03:51:21.000000000,2020-07-21 06:23:22.000000000,2020-09-28 07:28:44.000000000]]\n",
       "ReferenceId: [[\"5ad382ce-6d21-46c9-b03e-ef71fab2d672\",\"f6240a7a-81a1-474d-99ba-824fc5d85a70\",\"b79dd28d-0d87-4ffb-b492-63625ca381c2\",\"4bad134f-cbb5-4d5c-a27d-4fbc78bd205b\",\"64e58647-9aa7-4090-9707-6b9a7a724c40\",...,\"f73b83b3-602a-4a70-812b-a7699e27bbfb\",\"d74bd295-9820-4942-9c4d-dff6a842d6c7\",\"1932327a-aa20-4a5a-9a58-fad781f907c4\",\"dbb20852-15df-4745-93c7-8f0725f043ed\",\"a5d40aa9-050b-4d8a-95a7-8d3ba847a7eb\"]]\n",
       "AppIdentificator: [[\"dbded140-e0d6-4ed3-8764-224aa5c1e687\",\"028e6189-36be-43a2-9399-fa8a20e56068\",\"45712b6a-0eb0-46c3-9824-601eed84bb27\",\"fe4e1c54-e4df-457b-9aad-f985498ec83d\",\"a0e559ef-6cf0-4f8a-85ee-baef6f152427\",...,\"b6c7817f-561d-4e87-a73f-3e1351de7496\",\"dbded140-e0d6-4ed3-8764-224aa5c1e687\",\"45712b6a-0eb0-46c3-9824-601eed84bb27\",\"4505a8a2-7f93-47bd-8347-97dc1415a1bb\",\"f5605f71-3e82-440e-83bd-9f44d09f977c\"]]\n",
       "PaymentType: [[\"Apple Pay\",\"Direct Debit Mandates\",\"Direct Debit Mandates\",\"Bank Transfer\",\"Direct Debit Mandates\",...,\"Momo Wallets\",\"Momo Wallets\",\"Bank Transfer\",\"Momo Wallets\",\"Google Pay\"]]\n",
       "PaymentProvider: [[\"GTpay\",\"Paystack\",\"GTpay\",\"Flutterwave\",\"MonoMomo\",...,\"Flutterwave\",\"Paystack\",\"Interswitch\",\"Flutterwave\",\"Paystack\"]]\n",
       "Country: [[\"Kenya\",\"Ethiopia\",\"Rwanda\",\"Rwanda\",\"Rwanda\",...,\"South Africa\",\"Kenya\",\"Senegal\",\"Ghana\",\"Nigeria\"]]\n",
       "TenantId: [[\"tenant_3\",\"tenant_8\",\"tenant_5\",\"tenant_9\",\"tenant_3\",...,\"tenant_2\",\"tenant_9\",\"tenant_5\",\"tenant_3\",\"tenant_7\"]]\n",
       "Amount: [[416.53,173.2,430.19,320.27,537.98,...,425.81,749.79,339.14,721.55,775.79]]\n",
       "Units: [[4,4,10,8,8,...,10,3,1,8,9]]\n",
       "..."
      ]
     },
     "execution_count": 4,
     "metadata": {},
     "output_type": "execute_result"
    }
   ],
   "source": [
    "import pyarrow.parquet as pq\n",
    "import pyarrow as pa\n",
    "\n",
    "# Define paths\n",
    "input_path = \"/home/iceberg/silver_layer/json_to_parquet.parquet\"\n",
    "output_path = \"/home/iceberg/silver_layer/json_to_parquet_micro.parquet\"\n",
    "\n",
    "# Read the Parquet file with pyarrow\n",
    "table = pq.read_table(input_path)\n",
    "table"
   ]
  },
  {
   "cell_type": "code",
   "execution_count": 5,
   "id": "acaab518-a4f6-418b-95bb-0e9e5c65e1d1",
   "metadata": {
    "scrolled": true
   },
   "outputs": [
    {
     "data": {
      "text/plain": [
       "pyarrow.Table\n",
       "Id: string\n",
       "Timestamp: timestamp[us]\n",
       "ReferenceId: string\n",
       "AppIdentificator: string\n",
       "PaymentType: string\n",
       "PaymentProvider: string\n",
       "Country: string\n",
       "TenantId: string\n",
       "Amount: double\n",
       "Units: int64\n",
       "TotalAmount: double\n",
       "Payload: string\n",
       "----\n",
       "Id: [[\"21be5e99-2b93-41b8-8bb5-868ad323b430\",\"9be186c2-2629-4586-9169-f412e6e752f1\",\"cac6753f-7041-459b-a3b1-06ca40a890af\",\"d8423bfa-3216-4d3f-81a4-c77e7c054f90\",\"8e019a7e-bcc7-4db1-baff-d53e3dda9821\",...,\"ba21f33f-d170-49aa-b10e-691065bdba00\",\"086ec9e6-77ad-4a7e-a892-1f0d6ba211b0\",\"d88b644a-a23b-4879-b402-f82465db9973\",\"f8b0c514-1251-429c-b511-b6724b57e994\",\"80e8ea05-4884-4887-bf93-1f4f1c21b955\"]]\n",
       "Timestamp: [[2023-06-13 07:56:15.000000,2023-06-23 06:04:27.000000,2022-10-26 06:11:29.000000,2020-01-20 17:57:30.000000,2021-09-20 20:34:36.000000,...,2020-12-15 09:30:03.000000,2021-08-15 07:04:01.000000,2023-01-20 03:51:21.000000,2020-07-21 06:23:22.000000,2020-09-28 07:28:44.000000]]\n",
       "ReferenceId: [[\"5ad382ce-6d21-46c9-b03e-ef71fab2d672\",\"f6240a7a-81a1-474d-99ba-824fc5d85a70\",\"b79dd28d-0d87-4ffb-b492-63625ca381c2\",\"4bad134f-cbb5-4d5c-a27d-4fbc78bd205b\",\"64e58647-9aa7-4090-9707-6b9a7a724c40\",...,\"f73b83b3-602a-4a70-812b-a7699e27bbfb\",\"d74bd295-9820-4942-9c4d-dff6a842d6c7\",\"1932327a-aa20-4a5a-9a58-fad781f907c4\",\"dbb20852-15df-4745-93c7-8f0725f043ed\",\"a5d40aa9-050b-4d8a-95a7-8d3ba847a7eb\"]]\n",
       "AppIdentificator: [[\"dbded140-e0d6-4ed3-8764-224aa5c1e687\",\"028e6189-36be-43a2-9399-fa8a20e56068\",\"45712b6a-0eb0-46c3-9824-601eed84bb27\",\"fe4e1c54-e4df-457b-9aad-f985498ec83d\",\"a0e559ef-6cf0-4f8a-85ee-baef6f152427\",...,\"b6c7817f-561d-4e87-a73f-3e1351de7496\",\"dbded140-e0d6-4ed3-8764-224aa5c1e687\",\"45712b6a-0eb0-46c3-9824-601eed84bb27\",\"4505a8a2-7f93-47bd-8347-97dc1415a1bb\",\"f5605f71-3e82-440e-83bd-9f44d09f977c\"]]\n",
       "PaymentType: [[\"Apple Pay\",\"Direct Debit Mandates\",\"Direct Debit Mandates\",\"Bank Transfer\",\"Direct Debit Mandates\",...,\"Momo Wallets\",\"Momo Wallets\",\"Bank Transfer\",\"Momo Wallets\",\"Google Pay\"]]\n",
       "PaymentProvider: [[\"GTpay\",\"Paystack\",\"GTpay\",\"Flutterwave\",\"MonoMomo\",...,\"Flutterwave\",\"Paystack\",\"Interswitch\",\"Flutterwave\",\"Paystack\"]]\n",
       "Country: [[\"Kenya\",\"Ethiopia\",\"Rwanda\",\"Rwanda\",\"Rwanda\",...,\"South Africa\",\"Kenya\",\"Senegal\",\"Ghana\",\"Nigeria\"]]\n",
       "TenantId: [[\"tenant_3\",\"tenant_8\",\"tenant_5\",\"tenant_9\",\"tenant_3\",...,\"tenant_2\",\"tenant_9\",\"tenant_5\",\"tenant_3\",\"tenant_7\"]]\n",
       "Amount: [[416.53,173.2,430.19,320.27,537.98,...,425.81,749.79,339.14,721.55,775.79]]\n",
       "Units: [[4,4,10,8,8,...,10,3,1,8,9]]\n",
       "..."
      ]
     },
     "execution_count": 5,
     "metadata": {},
     "output_type": "execute_result"
    }
   ],
   "source": [
    "# Convert to microsecond precision and save as a new Parquet file\n",
    "pq.write_table(table, output_path, coerce_timestamps='us')\n",
    "table1 = pq.read_table(output_path)\n",
    "table1"
   ]
  },
  {
   "cell_type": "code",
   "execution_count": 6,
   "id": "956c486d-b1ad-4628-913e-705330e4cafe",
   "metadata": {},
   "outputs": [],
   "source": [
    "from pyspark.sql import SparkSession\n",
    "from pyspark.sql.functions import col\n",
    "import pyarrow.parquet as pq\n",
    "import pyarrow as pa"
   ]
  },
  {
   "cell_type": "code",
   "execution_count": 7,
   "id": "fe5f54e8-c266-42ab-a155-dc349b587f03",
   "metadata": {},
   "outputs": [
    {
     "name": "stderr",
     "output_type": "stream",
     "text": [
      "                                                                                \r"
     ]
    },
    {
     "data": {
      "text/html": [
       "<div>\n",
       "<style scoped>\n",
       "    .dataframe tbody tr th:only-of-type {\n",
       "        vertical-align: middle;\n",
       "    }\n",
       "\n",
       "    .dataframe tbody tr th {\n",
       "        vertical-align: top;\n",
       "    }\n",
       "\n",
       "    .dataframe thead th {\n",
       "        text-align: right;\n",
       "    }\n",
       "</style>\n",
       "<table border=\"1\" class=\"dataframe\">\n",
       "  <thead>\n",
       "    <tr style=\"text-align: right;\">\n",
       "      <th></th>\n",
       "      <th>Id</th>\n",
       "      <th>Timestamp</th>\n",
       "      <th>ReferenceId</th>\n",
       "      <th>AppIdentificator</th>\n",
       "      <th>PaymentType</th>\n",
       "      <th>PaymentProvider</th>\n",
       "      <th>Country</th>\n",
       "      <th>TenantId</th>\n",
       "      <th>Amount</th>\n",
       "      <th>Units</th>\n",
       "      <th>TotalAmount</th>\n",
       "      <th>Payload</th>\n",
       "    </tr>\n",
       "  </thead>\n",
       "  <tbody>\n",
       "    <tr>\n",
       "      <th>0</th>\n",
       "      <td>21be5e99-2b93-41b8-8bb5-868ad323b430</td>\n",
       "      <td>2023-06-13 07:56:15</td>\n",
       "      <td>5ad382ce-6d21-46c9-b03e-ef71fab2d672</td>\n",
       "      <td>dbded140-e0d6-4ed3-8764-224aa5c1e687</td>\n",
       "      <td>Apple Pay</td>\n",
       "      <td>GTpay</td>\n",
       "      <td>Kenya</td>\n",
       "      <td>tenant_3</td>\n",
       "      <td>416.53</td>\n",
       "      <td>4</td>\n",
       "      <td>868.62</td>\n",
       "      <td>Key town population trip forget defense agreem...</td>\n",
       "    </tr>\n",
       "    <tr>\n",
       "      <th>1</th>\n",
       "      <td>9be186c2-2629-4586-9169-f412e6e752f1</td>\n",
       "      <td>2023-06-23 06:04:27</td>\n",
       "      <td>f6240a7a-81a1-474d-99ba-824fc5d85a70</td>\n",
       "      <td>028e6189-36be-43a2-9399-fa8a20e56068</td>\n",
       "      <td>Direct Debit Mandates</td>\n",
       "      <td>Paystack</td>\n",
       "      <td>Ethiopia</td>\n",
       "      <td>tenant_8</td>\n",
       "      <td>173.20</td>\n",
       "      <td>4</td>\n",
       "      <td>480.26</td>\n",
       "      <td>Significant seem produce. Manager for analysis...</td>\n",
       "    </tr>\n",
       "    <tr>\n",
       "      <th>2</th>\n",
       "      <td>cac6753f-7041-459b-a3b1-06ca40a890af</td>\n",
       "      <td>2022-10-26 06:11:29</td>\n",
       "      <td>b79dd28d-0d87-4ffb-b492-63625ca381c2</td>\n",
       "      <td>45712b6a-0eb0-46c3-9824-601eed84bb27</td>\n",
       "      <td>Direct Debit Mandates</td>\n",
       "      <td>GTpay</td>\n",
       "      <td>Rwanda</td>\n",
       "      <td>tenant_5</td>\n",
       "      <td>430.19</td>\n",
       "      <td>10</td>\n",
       "      <td>843.33</td>\n",
       "      <td>Blue why off alone consider walk pattern.</td>\n",
       "    </tr>\n",
       "    <tr>\n",
       "      <th>3</th>\n",
       "      <td>d8423bfa-3216-4d3f-81a4-c77e7c054f90</td>\n",
       "      <td>2020-01-20 17:57:30</td>\n",
       "      <td>4bad134f-cbb5-4d5c-a27d-4fbc78bd205b</td>\n",
       "      <td>fe4e1c54-e4df-457b-9aad-f985498ec83d</td>\n",
       "      <td>Bank Transfer</td>\n",
       "      <td>Flutterwave</td>\n",
       "      <td>Rwanda</td>\n",
       "      <td>tenant_9</td>\n",
       "      <td>320.27</td>\n",
       "      <td>8</td>\n",
       "      <td>221.53</td>\n",
       "      <td>Guy cut see need.\\nContinue our send another i...</td>\n",
       "    </tr>\n",
       "    <tr>\n",
       "      <th>4</th>\n",
       "      <td>8e019a7e-bcc7-4db1-baff-d53e3dda9821</td>\n",
       "      <td>2021-09-20 20:34:36</td>\n",
       "      <td>64e58647-9aa7-4090-9707-6b9a7a724c40</td>\n",
       "      <td>a0e559ef-6cf0-4f8a-85ee-baef6f152427</td>\n",
       "      <td>Direct Debit Mandates</td>\n",
       "      <td>MonoMomo</td>\n",
       "      <td>Rwanda</td>\n",
       "      <td>tenant_3</td>\n",
       "      <td>537.98</td>\n",
       "      <td>8</td>\n",
       "      <td>530.97</td>\n",
       "      <td>Beat water medical service.\\nDevelop whatever ...</td>\n",
       "    </tr>\n",
       "    <tr>\n",
       "      <th>...</th>\n",
       "      <td>...</td>\n",
       "      <td>...</td>\n",
       "      <td>...</td>\n",
       "      <td>...</td>\n",
       "      <td>...</td>\n",
       "      <td>...</td>\n",
       "      <td>...</td>\n",
       "      <td>...</td>\n",
       "      <td>...</td>\n",
       "      <td>...</td>\n",
       "      <td>...</td>\n",
       "      <td>...</td>\n",
       "    </tr>\n",
       "    <tr>\n",
       "      <th>995</th>\n",
       "      <td>ba21f33f-d170-49aa-b10e-691065bdba00</td>\n",
       "      <td>2020-12-15 09:30:03</td>\n",
       "      <td>f73b83b3-602a-4a70-812b-a7699e27bbfb</td>\n",
       "      <td>b6c7817f-561d-4e87-a73f-3e1351de7496</td>\n",
       "      <td>Momo Wallets</td>\n",
       "      <td>Flutterwave</td>\n",
       "      <td>South Africa</td>\n",
       "      <td>tenant_2</td>\n",
       "      <td>425.81</td>\n",
       "      <td>10</td>\n",
       "      <td>572.11</td>\n",
       "      <td>I employee away cultural once. No cover answer.</td>\n",
       "    </tr>\n",
       "    <tr>\n",
       "      <th>996</th>\n",
       "      <td>086ec9e6-77ad-4a7e-a892-1f0d6ba211b0</td>\n",
       "      <td>2021-08-15 07:04:01</td>\n",
       "      <td>d74bd295-9820-4942-9c4d-dff6a842d6c7</td>\n",
       "      <td>dbded140-e0d6-4ed3-8764-224aa5c1e687</td>\n",
       "      <td>Momo Wallets</td>\n",
       "      <td>Paystack</td>\n",
       "      <td>Kenya</td>\n",
       "      <td>tenant_9</td>\n",
       "      <td>749.79</td>\n",
       "      <td>3</td>\n",
       "      <td>875.45</td>\n",
       "      <td>Ahead difference skill herself type many. Requ...</td>\n",
       "    </tr>\n",
       "    <tr>\n",
       "      <th>997</th>\n",
       "      <td>d88b644a-a23b-4879-b402-f82465db9973</td>\n",
       "      <td>2023-01-20 03:51:21</td>\n",
       "      <td>1932327a-aa20-4a5a-9a58-fad781f907c4</td>\n",
       "      <td>45712b6a-0eb0-46c3-9824-601eed84bb27</td>\n",
       "      <td>Bank Transfer</td>\n",
       "      <td>Interswitch</td>\n",
       "      <td>Senegal</td>\n",
       "      <td>tenant_5</td>\n",
       "      <td>339.14</td>\n",
       "      <td>1</td>\n",
       "      <td>775.61</td>\n",
       "      <td>Will thing environment picture Congress. Stree...</td>\n",
       "    </tr>\n",
       "    <tr>\n",
       "      <th>998</th>\n",
       "      <td>f8b0c514-1251-429c-b511-b6724b57e994</td>\n",
       "      <td>2020-07-21 06:23:22</td>\n",
       "      <td>dbb20852-15df-4745-93c7-8f0725f043ed</td>\n",
       "      <td>4505a8a2-7f93-47bd-8347-97dc1415a1bb</td>\n",
       "      <td>Momo Wallets</td>\n",
       "      <td>Flutterwave</td>\n",
       "      <td>Ghana</td>\n",
       "      <td>tenant_3</td>\n",
       "      <td>721.55</td>\n",
       "      <td>8</td>\n",
       "      <td>629.04</td>\n",
       "      <td>Everything sure TV eight test. Entire discover...</td>\n",
       "    </tr>\n",
       "    <tr>\n",
       "      <th>999</th>\n",
       "      <td>80e8ea05-4884-4887-bf93-1f4f1c21b955</td>\n",
       "      <td>2020-09-28 07:28:44</td>\n",
       "      <td>a5d40aa9-050b-4d8a-95a7-8d3ba847a7eb</td>\n",
       "      <td>f5605f71-3e82-440e-83bd-9f44d09f977c</td>\n",
       "      <td>Google Pay</td>\n",
       "      <td>Paystack</td>\n",
       "      <td>Nigeria</td>\n",
       "      <td>tenant_7</td>\n",
       "      <td>775.79</td>\n",
       "      <td>9</td>\n",
       "      <td>143.66</td>\n",
       "      <td>Cut test test increase line help. Probably lik...</td>\n",
       "    </tr>\n",
       "  </tbody>\n",
       "</table>\n",
       "<p>1000 rows × 12 columns</p>\n",
       "</div>"
      ],
      "text/plain": [
       "                                       Id           Timestamp  \\\n",
       "0    21be5e99-2b93-41b8-8bb5-868ad323b430 2023-06-13 07:56:15   \n",
       "1    9be186c2-2629-4586-9169-f412e6e752f1 2023-06-23 06:04:27   \n",
       "2    cac6753f-7041-459b-a3b1-06ca40a890af 2022-10-26 06:11:29   \n",
       "3    d8423bfa-3216-4d3f-81a4-c77e7c054f90 2020-01-20 17:57:30   \n",
       "4    8e019a7e-bcc7-4db1-baff-d53e3dda9821 2021-09-20 20:34:36   \n",
       "..                                    ...                 ...   \n",
       "995  ba21f33f-d170-49aa-b10e-691065bdba00 2020-12-15 09:30:03   \n",
       "996  086ec9e6-77ad-4a7e-a892-1f0d6ba211b0 2021-08-15 07:04:01   \n",
       "997  d88b644a-a23b-4879-b402-f82465db9973 2023-01-20 03:51:21   \n",
       "998  f8b0c514-1251-429c-b511-b6724b57e994 2020-07-21 06:23:22   \n",
       "999  80e8ea05-4884-4887-bf93-1f4f1c21b955 2020-09-28 07:28:44   \n",
       "\n",
       "                              ReferenceId  \\\n",
       "0    5ad382ce-6d21-46c9-b03e-ef71fab2d672   \n",
       "1    f6240a7a-81a1-474d-99ba-824fc5d85a70   \n",
       "2    b79dd28d-0d87-4ffb-b492-63625ca381c2   \n",
       "3    4bad134f-cbb5-4d5c-a27d-4fbc78bd205b   \n",
       "4    64e58647-9aa7-4090-9707-6b9a7a724c40   \n",
       "..                                    ...   \n",
       "995  f73b83b3-602a-4a70-812b-a7699e27bbfb   \n",
       "996  d74bd295-9820-4942-9c4d-dff6a842d6c7   \n",
       "997  1932327a-aa20-4a5a-9a58-fad781f907c4   \n",
       "998  dbb20852-15df-4745-93c7-8f0725f043ed   \n",
       "999  a5d40aa9-050b-4d8a-95a7-8d3ba847a7eb   \n",
       "\n",
       "                         AppIdentificator            PaymentType  \\\n",
       "0    dbded140-e0d6-4ed3-8764-224aa5c1e687              Apple Pay   \n",
       "1    028e6189-36be-43a2-9399-fa8a20e56068  Direct Debit Mandates   \n",
       "2    45712b6a-0eb0-46c3-9824-601eed84bb27  Direct Debit Mandates   \n",
       "3    fe4e1c54-e4df-457b-9aad-f985498ec83d          Bank Transfer   \n",
       "4    a0e559ef-6cf0-4f8a-85ee-baef6f152427  Direct Debit Mandates   \n",
       "..                                    ...                    ...   \n",
       "995  b6c7817f-561d-4e87-a73f-3e1351de7496           Momo Wallets   \n",
       "996  dbded140-e0d6-4ed3-8764-224aa5c1e687           Momo Wallets   \n",
       "997  45712b6a-0eb0-46c3-9824-601eed84bb27          Bank Transfer   \n",
       "998  4505a8a2-7f93-47bd-8347-97dc1415a1bb           Momo Wallets   \n",
       "999  f5605f71-3e82-440e-83bd-9f44d09f977c             Google Pay   \n",
       "\n",
       "    PaymentProvider       Country  TenantId  Amount  Units  TotalAmount  \\\n",
       "0             GTpay         Kenya  tenant_3  416.53      4       868.62   \n",
       "1          Paystack      Ethiopia  tenant_8  173.20      4       480.26   \n",
       "2             GTpay        Rwanda  tenant_5  430.19     10       843.33   \n",
       "3       Flutterwave        Rwanda  tenant_9  320.27      8       221.53   \n",
       "4          MonoMomo        Rwanda  tenant_3  537.98      8       530.97   \n",
       "..              ...           ...       ...     ...    ...          ...   \n",
       "995     Flutterwave  South Africa  tenant_2  425.81     10       572.11   \n",
       "996        Paystack         Kenya  tenant_9  749.79      3       875.45   \n",
       "997     Interswitch       Senegal  tenant_5  339.14      1       775.61   \n",
       "998     Flutterwave         Ghana  tenant_3  721.55      8       629.04   \n",
       "999        Paystack       Nigeria  tenant_7  775.79      9       143.66   \n",
       "\n",
       "                                               Payload  \n",
       "0    Key town population trip forget defense agreem...  \n",
       "1    Significant seem produce. Manager for analysis...  \n",
       "2            Blue why off alone consider walk pattern.  \n",
       "3    Guy cut see need.\\nContinue our send another i...  \n",
       "4    Beat water medical service.\\nDevelop whatever ...  \n",
       "..                                                 ...  \n",
       "995    I employee away cultural once. No cover answer.  \n",
       "996  Ahead difference skill herself type many. Requ...  \n",
       "997  Will thing environment picture Congress. Stree...  \n",
       "998  Everything sure TV eight test. Entire discover...  \n",
       "999  Cut test test increase line help. Probably lik...  \n",
       "\n",
       "[1000 rows x 12 columns]"
      ]
     },
     "execution_count": 7,
     "metadata": {},
     "output_type": "execute_result"
    }
   ],
   "source": [
    "# Step 1: Load the Parquet file into Spark DataFrame\n",
    "df = spark.read.parquet(output_path)\n",
    "# Convert to Pandas DataFrame\n",
    "df_pandas = df.toPandas()\n",
    "df_pandas"
   ]
  },
  {
   "cell_type": "code",
   "execution_count": 8,
   "id": "2afeac93-fe2f-4fe6-a2f2-45f2f71c87e3",
   "metadata": {},
   "outputs": [],
   "source": [
    "# Step 2: Create Iceberg table if it doesn't exist already\n",
    "# Define the table name and schema for Iceberg table\n",
    "table_name = \"my_catalog.default.json_to_iceberg_table\""
   ]
  },
  {
   "cell_type": "code",
   "execution_count": 9,
   "id": "2c940f16-4f14-4d88-93c7-30aab42beaa7",
   "metadata": {},
   "outputs": [
    {
     "data": {
      "text/plain": [
       "DataFrame[]"
      ]
     },
     "execution_count": 9,
     "metadata": {},
     "output_type": "execute_result"
    }
   ],
   "source": [
    "# Check if the table exists and create if it doesn't\n",
    "spark.sql(f\"\"\"\n",
    "  CREATE TABLE IF NOT EXISTS {table_name} (\n",
    "    Id STRING,\n",
    "    Timestamp TIMESTAMP,\n",
    "    ReferenceId STRING,\n",
    "    AppIdentificator STRING,\n",
    "    PaymentType STRING,\n",
    "    PaymentProvider STRING,\n",
    "    Country STRING,\n",
    "    TenantId STRING,\n",
    "    Amount DOUBLE,\n",
    "    Units INT,\n",
    "    TotalAmount DOUBLE,\n",
    "    Payload STRING\n",
    "  )\n",
    "  USING iceberg\n",
    "  PARTITIONED BY (days(Timestamp))  -- Partitioning by day based on Timestamp\n",
    "\"\"\")"
   ]
  },
  {
   "cell_type": "code",
   "execution_count": 10,
   "id": "76f7bbe3-a432-4169-af6c-44be4d75f71c",
   "metadata": {},
   "outputs": [
    {
     "name": "stdout",
     "output_type": "stream",
     "text": [
      "+----------------+---------------+-------+\n",
      "|        col_name|      data_type|comment|\n",
      "+----------------+---------------+-------+\n",
      "|              Id|         string|   NULL|\n",
      "|       Timestamp|      timestamp|   NULL|\n",
      "|     ReferenceId|         string|   NULL|\n",
      "|AppIdentificator|         string|   NULL|\n",
      "|     PaymentType|         string|   NULL|\n",
      "| PaymentProvider|         string|   NULL|\n",
      "|         Country|         string|   NULL|\n",
      "|        TenantId|         string|   NULL|\n",
      "|          Amount|         double|   NULL|\n",
      "|           Units|            int|   NULL|\n",
      "|     TotalAmount|         double|   NULL|\n",
      "|         Payload|         string|   NULL|\n",
      "|                |               |       |\n",
      "|  # Partitioning|               |       |\n",
      "|          Part 0|days(Timestamp)|       |\n",
      "+----------------+---------------+-------+\n",
      "\n"
     ]
    }
   ],
   "source": [
    "spark.sql(f\"DESCRIBE {table_name}\").show()\n"
   ]
  },
  {
   "cell_type": "code",
   "execution_count": 11,
   "id": "49e95ccf-573f-4e04-bfde-ddd3f27a4d28",
   "metadata": {},
   "outputs": [
    {
     "name": "stderr",
     "output_type": "stream",
     "text": [
      "                                                                                \r"
     ]
    }
   ],
   "source": [
    "df.write \\\n",
    "    .format(\"iceberg\") \\\n",
    "    .option(\"parquet.compression\", \"SNAPPY\") \\\n",
    "    .mode(\"append\") \\\n",
    "    .save(table_name)\n"
   ]
  },
  {
   "cell_type": "code",
   "execution_count": 12,
   "id": "6d3b1a41-1c5e-460c-ae73-85323b6b1fde",
   "metadata": {},
   "outputs": [
    {
     "name": "stderr",
     "output_type": "stream",
     "text": [
      "                                                                                \r"
     ]
    },
    {
     "name": "stdout",
     "output_type": "stream",
     "text": [
      "+--------------------+-------------------+--------------------+--------------------+-----------+---------------+------------+---------+------+-----+-----------+--------------------+\n",
      "|                  Id|          Timestamp|         ReferenceId|    AppIdentificator|PaymentType|PaymentProvider|     Country| TenantId|Amount|Units|TotalAmount|             Payload|\n",
      "+--------------------+-------------------+--------------------+--------------------+-----------+---------------+------------+---------+------+-----+-----------+--------------------+\n",
      "|e10e7c4d-7fb6-49c...|2022-07-11 03:15:48|2b5f8d02-e1c0-479...|41f1a844-dcac-477...|       Card|    Interswitch|     Senegal| tenant_6| 578.3|   10|     858.34|Bring necessary r...|\n",
      "|49c8c616-d528-4b7...|2022-07-12 10:44:51|caab6ad2-3a99-40c...|fe4e1c54-e4df-457...|       Card|    Interswitch|    Zimbabwe|tenant_10|273.57|    8|     620.36|Would various hot...|\n",
      "|1c72beeb-8324-487...|2022-07-15 03:23:52|7576ee46-6c25-460...|45712b6a-0eb0-46c...|       Card|       Paystack|      Rwanda| tenant_1|235.74|    5|     576.23|System yard seek ...|\n",
      "|a406024e-8164-4b7...|2022-07-23 04:37:45|5c8dcd54-8ab3-478...|b6c7817f-561d-4e8...|       Card|       Paystack|    Tanzania| tenant_6|974.12|    4|      831.5|Specific scene me...|\n",
      "|6ab8af6d-69a8-4ea...|2022-08-25 09:26:52|7a347e94-e1bb-465...|669f19ce-6a84-4ce...|       Card|       MonoMomo|     Senegal| tenant_1|323.45|    1|     371.04|Point skill set s...|\n",
      "|9d5895d1-fa49-4f8...|2022-08-22 12:19:26|224f1bc8-e859-4d1...|1319a7e1-9424-4b7...|       Card|       VPAY/VFD|South Africa| tenant_1|559.58|    4|     795.88|Kitchen kitchen e...|\n",
      "|e5cb9f30-bfde-421...|2022-10-04 05:24:38|584788fd-16d8-481...|62b94c95-0b2a-4ca...|       Card|       Paystack|     Nigeria| tenant_3|858.02|   10|      64.08|Firm piece scienc...|\n",
      "|1d77f93f-a3aa-483...|2022-10-05 02:14:18|21afb36d-f326-436...|c1248bf4-f5c2-42c...|       Card|       Paystack|       Kenya| tenant_4|929.68|    3|     271.91|She go usually ah...|\n",
      "|b74848f0-3c4d-47a...|2022-10-06 05:27:12|ae3788e9-6f24-4c3...|9a8d4b0c-79f4-4e9...|       Card|    Flutterwave|South Africa| tenant_1|131.69|    9|     712.78|Control always co...|\n",
      "|19975c08-34b5-499...|2022-10-28 01:00:31|5c0e3b16-6169-401...|fe4e1c54-e4df-457...|       Card|    Interswitch|       Kenya| tenant_2|770.46|    1|     797.14|Until begin sort ...|\n",
      "|a82449d4-7382-41f...|2020-01-13 02:50:36|895a4708-81b1-41e...|45712b6a-0eb0-46c...|       Card|       Paystack|       Kenya|tenant_10| 92.71|   10|     351.98|Finally interview...|\n",
      "|1970a605-3b1c-4b8...|2020-01-28 23:04:53|09f3efd1-f511-4c7...|b6c7817f-561d-4e8...|       Card|    Interswitch|    Tanzania| tenant_5|871.31|    2|     697.42|Few one relations...|\n",
      "|9d1cc0a0-837d-468...|2020-01-28 04:33:41|088d3755-8838-476...|4555e1a4-ca0a-450...|       Card|       MonoMomo|    Zimbabwe| tenant_2|170.27|    6|     746.78|Message same up c...|\n",
      "|c4dda834-3458-4a2...|2022-11-19 18:04:02|f8f149cd-cad2-410...|c1248bf4-f5c2-42c...|       Card|    Flutterwave|       Ghana| tenant_1| 36.81|    5|     788.17|Sing scene again ...|\n",
      "|40d42d78-53dd-403...|2020-02-06 05:04:03|118b2f99-5ea9-447...|028e6189-36be-43a...|       Card|    Interswitch|     Senegal| tenant_9|988.43|    9|     295.13|Kind available la...|\n",
      "|7e2589c4-d87a-489...|2020-02-13 23:58:47|05fa44af-271a-4e9...|212d1cb6-a14a-4e3...|       Card|    Flutterwave|       Ghana| tenant_9|113.45|    4|     725.41|Newspaper notice ...|\n",
      "|bae39556-0130-454...|2020-02-22 03:52:43|7166df1e-78d1-4f3...|c1248bf4-f5c2-42c...|       Card|          GTpay|    Zimbabwe| tenant_7|443.67|    9|     917.48|Often in record p...|\n",
      "|d7be9c1a-8fbd-493...|2022-12-13 03:19:48|f0141484-84d6-4d1...|dbded140-e0d6-4ed...|       Card|    Interswitch|    Ethiopia| tenant_3| 97.93|   10|     270.68|American through ...|\n",
      "|ed259289-a4d8-444...|2020-03-02 02:21:35|06bf55bb-aed8-4fc...|dbded140-e0d6-4ed...|       Card|          GTpay|South Africa| tenant_5| 195.3|    5|       96.7|Believe son socia...|\n",
      "|d1054c87-b3cc-4a4...|2020-03-08 18:29:29|1c4b441a-50f2-42e...|45712b6a-0eb0-46c...|       Card|    Flutterwave|    Zimbabwe| tenant_7| 353.7|    2|     637.15|Fly but majority ...|\n",
      "+--------------------+-------------------+--------------------+--------------------+-----------+---------------+------------+---------+------+-----+-----------+--------------------+\n",
      "only showing top 20 rows\n",
      "\n"
     ]
    }
   ],
   "source": [
    "spark.sql(\"SELECT * FROM my_catalog.default.json_to_iceberg_table WHERE PaymentType = 'Card'\").show()"
   ]
  },
  {
   "cell_type": "code",
   "execution_count": 13,
   "id": "c4095410-b756-4db1-9f0c-8b344dec11d4",
   "metadata": {},
   "outputs": [
    {
     "name": "stdout",
     "output_type": "stream",
     "text": [
      "+---------+--------------------+-----------+\n",
      "|namespace|           tableName|isTemporary|\n",
      "+---------+--------------------+-----------+\n",
      "|  default|json_to_iceberg_t...|      false|\n",
      "+---------+--------------------+-----------+\n",
      "\n"
     ]
    }
   ],
   "source": [
    "spark.sql(\"SHOW TABLES IN my_catalog.default\").show()"
   ]
  },
  {
   "cell_type": "code",
   "execution_count": 14,
   "id": "596d8b45-15f6-43ef-9efc-d0d4df920170",
   "metadata": {},
   "outputs": [
    {
     "name": "stdout",
     "output_type": "stream",
     "text": [
      "+---------+\n",
      "|row_count|\n",
      "+---------+\n",
      "|     1000|\n",
      "+---------+\n",
      "\n"
     ]
    }
   ],
   "source": [
    "spark.sql(\"SELECT COUNT(*) AS row_count FROM my_catalog.default.json_to_iceberg_table\").show()"
   ]
  },
  {
   "cell_type": "code",
   "execution_count": null,
   "id": "e87735ec-5dea-4f45-84d4-dce6108467e7",
   "metadata": {},
   "outputs": [],
   "source": []
  }
 ],
 "metadata": {
  "kernelspec": {
   "display_name": "Python 3 (ipykernel)",
   "language": "python",
   "name": "python3"
  },
  "language_info": {
   "codemirror_mode": {
    "name": "ipython",
    "version": 3
   },
   "file_extension": ".py",
   "mimetype": "text/x-python",
   "name": "python",
   "nbconvert_exporter": "python",
   "pygments_lexer": "ipython3",
   "version": "3.9.18"
  }
 },
 "nbformat": 4,
 "nbformat_minor": 5
}
